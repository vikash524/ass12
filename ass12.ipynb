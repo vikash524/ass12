# 1
# What is multithreading in Python? Why is it used? Name the module used to handle threads in Python.

# Multithreading in Python refers to the ability of a program to execute multiple threads concurrently.
# It is used to achieve concurrency and improve the performance of applications by utilizing multiple CPU cores efficiently.
# The module used to handle threads in Python is called 'threading'.

# 2
# Why is the threading module used? Write the use of the following functions (activeCount, currentThread, enumerate)

# The threading module is used to create and manage threads in Python.
# - activeCount(): Returns the number of Thread objects currently alive.
# - currentThread(): Returns the current Thread object.
# - enumerate(): Returns a list of all Thread objects currently alive.

# 3
# Explain the following functions (run, start, join, isAlive)

# - run(): Method representing the thread’s activity.
# - start(): Method to start a thread’s activity.
# - join(): Method blocks the calling thread until the thread whose join() method is called terminates.
# - isAlive(): Method returns True if the thread is alive, False otherwise.

# 4
# Write a Python program to create two threads. Thread one must print the list of squares and thread two must print the list of cubes

import threading

def print_squares():
    for i in range(1, 6):
        print(f"Square of {i}: {i*i}")

def print_cubes():
    for i in range(1, 6):
        print(f"Cube of {i}: {i*i*i}")

t1 = threading.Thread(target=print_squares)
t2 = threading.Thread(target=print_cubes)

t1.start()
t2.start()

t1.join()
t2.join()

# 5
# State advantages and disadvantages of multithreading

# Advantages:
# - Improved performance by utilizing multiple CPU cores.
# - Increased responsiveness in I/O-bound applications.
# - Simplified code structure for concurrent tasks.

# Disadvantages:
# - Increased complexity in managing shared resources leading to potential race conditions and deadlocks.
# - Difficulty in debugging due to non-deterministic behavior.
# - Global Interpreter Lock (GIL) in CPython limits true parallelism.

# 6
# Explain deadlocks and race conditions.

# Deadlock: Deadlock occurs when two or more threads are blocked forever, waiting for each other to release resources.
# Race Condition: Race condition occurs when two or more threads access shared data and attempt to change it at the same time, leading to unpredictable results.



